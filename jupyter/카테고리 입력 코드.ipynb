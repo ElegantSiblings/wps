{
 "cells": [
  {
   "cell_type": "code",
   "execution_count": 3,
   "metadata": {},
   "outputs": [],
   "source": [
    "main= '밑반찬,메인반찬,국찌개탕,아이반찬,육류 구이관,김치장아찌,세계음식,밥죽면,샐러드,간식,정기식당,반찬 브랜드'\n",
    "main_category = main.split(',')\n",
    "\n",
    "sub = ['무침,나물,볶음,조림,젓갈장소스,세트',\n",
    "      '고기반찬,해산물 반찬,분식,튀김,전계란반찬,세트',\n",
    "      '국,찌개,탕,전골,세트',\n",
    "      '밑반찬,메인반찬,국찌개,간식음료',\n",
    "      '소고기,돼지고기,양념구이,소스&곁들임찬,채소,마무리식사',\n",
    "      '김치,장아찌피클',\n",
    "      '양식,아시아식',\n",
    "      '밥,죽,면',\n",
    "      '샐러드,샌드위치',\n",
    "      '베이커리,과일,주스음료,스무디,유제품커피,기타간식',\n",
    "      '1~2인,3~4인,아이반찬',\n",
    "      '반찬가게,반찬 장인,셰프의 요리,전국맛집,키즈관']\n",
    "\n",
    "for m, s in zip(main_category, sub):\n",
    "    sub_list = (m+','+s).split(',')    \n",
    "    for ss in sub_list:\n",
    "        print(m,ss)\n",
    "        Category.objects.create(main_category=m, sub_category=ss)\n",
    "    \n"
   ]
  }
 ],
 "metadata": {
  "kernelspec": {
   "display_name": "Python 3",
   "language": "python",
   "name": "python3"
  },
  "language_info": {
   "codemirror_mode": {
    "name": "ipython",
    "version": 3
   },
   "file_extension": ".py",
   "mimetype": "text/x-python",
   "name": "python",
   "nbconvert_exporter": "python",
   "pygments_lexer": "ipython3",
   "version": "3.6.6"
  }
 },
 "nbformat": 4,
 "nbformat_minor": 2
}
