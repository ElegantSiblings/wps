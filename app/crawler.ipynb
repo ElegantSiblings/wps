{
 "cells": [
  {
   "cell_type": "code",
   "execution_count": 1,
   "metadata": {},
   "outputs": [],
   "source": [
    "from bs4 import BeautifulSoup\n",
    "import requests, re"
   ]
  },
  {
   "cell_type": "code",
   "execution_count": 3,
   "metadata": {},
   "outputs": [
    {
     "data": {
      "text/plain": [
       "135090"
      ]
     },
     "execution_count": 3,
     "metadata": {},
     "output_type": "execute_result"
    }
   ],
   "source": [
    "url='https://www.baeminchan.com/sidedish/list.php'\n",
    "response = requests.get(url)\n",
    "open('sidedish.html', 'wt').write(response.text)"
   ]
  },
  {
   "cell_type": "code",
   "execution_count": 90,
   "metadata": {},
   "outputs": [],
   "source": [
    "soup_products = soup.find('ul', id='products')"
   ]
  },
  {
   "cell_type": "code",
   "execution_count": 107,
   "metadata": {},
   "outputs": [
    {
     "data": {
      "text/plain": [
       "<p class=\"origin-price\"><del>3,300원</del></p>"
      ]
     },
     "execution_count": 107,
     "metadata": {},
     "output_type": "execute_result"
    }
   ],
   "source": [
    "# selling_price\n",
    "soup_products.findAll('li')[1].select('p')[0]\n",
    "# origin_price\n",
    "soup_products.findAll('li')[1].select('p')[1]"
   ]
  },
  {
   "cell_type": "code",
   "execution_count": 111,
   "metadata": {},
   "outputs": [
    {
     "data": {
      "text/plain": [
       "'17481'"
      ]
     },
     "execution_count": 111,
     "metadata": {},
     "output_type": "execute_result"
    }
   ],
   "source": [
    "# ga_id\n",
    "soup_products.findAll('li')[0].select('a')[0].get('ga_id')"
   ]
  },
  {
   "cell_type": "code",
   "execution_count": 202,
   "metadata": {},
   "outputs": [
    {
     "data": {
      "text/plain": [
       "'[집반찬연구소] 굴생채무침(2~3인분) 220g'"
      ]
     },
     "execution_count": 202,
     "metadata": {},
     "output_type": "execute_result"
    }
   ],
   "source": [
    "soup_products.findAll('li')[0].select('a')[0].get('ga_name')"
   ]
  },
  {
   "cell_type": "code",
   "execution_count": 260,
   "metadata": {},
   "outputs": [],
   "source": [
    "p = re.compile(r'\\[(?P<company>.*)\\](?P<item_name>.*)')"
   ]
  },
  {
   "cell_type": "code",
   "execution_count": 263,
   "metadata": {},
   "outputs": [],
   "source": [
    "s = soup_products.findAll('li')[0].select('a')[0].get('ga_name')"
   ]
  },
  {
   "cell_type": "code",
   "execution_count": 265,
   "metadata": {},
   "outputs": [],
   "source": [
    "m = p.search(s)"
   ]
  },
  {
   "cell_type": "code",
   "execution_count": 267,
   "metadata": {},
   "outputs": [
    {
     "data": {
      "text/plain": [
       "'집반찬연구소'"
      ]
     },
     "execution_count": 267,
     "metadata": {},
     "output_type": "execute_result"
    }
   ],
   "source": [
    "m.group('company')"
   ]
  },
  {
   "cell_type": "code",
   "execution_count": 272,
   "metadata": {},
   "outputs": [
    {
     "data": {
      "text/plain": [
       "'굴생채무침(2~3인분) 220g'"
      ]
     },
     "execution_count": 272,
     "metadata": {},
     "output_type": "execute_result"
    }
   ],
   "source": [
    "m.group('item_name').lstrip()"
   ]
  },
  {
   "cell_type": "code",
   "execution_count": 277,
   "metadata": {},
   "outputs": [],
   "source": [
    "col_products = []\n",
    "col_products = soup_products.findAll('li')"
   ]
  },
  {
   "cell_type": "code",
   "execution_count": 280,
   "metadata": {},
   "outputs": [
    {
     "data": {
      "text/plain": [
       "<p class=\"origin-price\"><del>3,300원</del></p>"
      ]
     },
     "execution_count": 280,
     "metadata": {},
     "output_type": "execute_result"
    }
   ],
   "source": [
    "# selling_price\n",
    "soup_products.findAll('li')[1].select('p')[0]\n",
    "# origin_price\n",
    "soup_products.findAll('li')[1].select('p')[1]"
   ]
  },
  {
   "cell_type": "code",
   "execution_count": 283,
   "metadata": {},
   "outputs": [],
   "source": [
    "p = re.compile(r'\\<del>(?P<origin_price>.*)\\<del>')"
   ]
  },
  {
   "cell_type": "code",
   "execution_count": 303,
   "metadata": {},
   "outputs": [
    {
     "data": {
      "text/plain": [
       "<p class=\"selling-price\">9,800<span class=\"won\">원</span></p>"
      ]
     },
     "execution_count": 303,
     "metadata": {},
     "output_type": "execute_result"
    }
   ],
   "source": [
    "col_products[0].select('p')[0]"
   ]
  },
  {
   "cell_type": "code",
   "execution_count": 295,
   "metadata": {},
   "outputs": [],
   "source": [
    "p = re.compile(r'\\d.*\\d')"
   ]
  },
  {
   "cell_type": "code",
   "execution_count": 344,
   "metadata": {},
   "outputs": [
    {
     "data": {
      "text/plain": [
       "'9,800'"
      ]
     },
     "execution_count": 344,
     "metadata": {},
     "output_type": "execute_result"
    }
   ],
   "source": [
    "p.search(col_products[0].select('p')[0].get_text()).group()"
   ]
  },
  {
   "cell_type": "code",
   "execution_count": null,
   "metadata": {},
   "outputs": [],
   "source": [
    "# selling_price\n",
    "soup_products.findAll('li')[1].select('p')[0]\n",
    "# origin_price\n",
    "soup_products.findAll('li')[1].select('p')[1]"
   ]
  },
  {
   "cell_type": "code",
   "execution_count": 307,
   "metadata": {},
   "outputs": [
    {
     "data": {
      "text/plain": [
       "<p class=\"selling-price\">2,450<span class=\"won\">원</span></p>"
      ]
     },
     "execution_count": 307,
     "metadata": {},
     "output_type": "execute_result"
    }
   ],
   "source": [
    "col_products[1].select('p')[0]"
   ]
  },
  {
   "cell_type": "code",
   "execution_count": 4,
   "metadata": {},
   "outputs": [
    {
     "data": {
      "text/plain": [
       "135086"
      ]
     },
     "execution_count": 4,
     "metadata": {},
     "output_type": "execute_result"
    }
   ],
   "source": [
    "from bs4 import BeautifulSoup\n",
    "import requests, re\n",
    "url='https://www.baeminchan.com/sidedish/list.php'\n",
    "response = requests.get(url)\n",
    "open('sidedish.html', 'wt').write(response.text)"
   ]
  },
  {
   "cell_type": "code",
   "execution_count": 5,
   "metadata": {},
   "outputs": [],
   "source": [
    "html = open('sidedish.html', 'rt').read()\n",
    "soup = BeautifulSoup(html, 'lxml')\n",
    "\n",
    "soup_products = soup.find('ul', id='products')\n",
    "col_products = []\n",
    "col_products = soup_products.findAll('li')\n",
    "col_discounts = []\n",
    "col_imgthumb = soup_products.find_all(\"div\", \"imgthumb\")\n",
    "\n",
    "p_company = re.compile(r'\\[(?P<company>.*)\\](?P<item_name>.*)')\n",
    "p_price = re.compile(r'\\d.*\\d')\n",
    "\n",
    "col_ga_id = []\n",
    "col_company = []\n",
    "col_item_name = []\n",
    "col_sales_price = []\n",
    "col_origin_price = []\n",
    "col_discounts = []\n",
    "\n",
    "for col in col_products:\n",
    "    col_ga_id.append(col.select('a')[0].get('ga_id'))\n",
    "    col_company.append(p_company.search(col.select('a')[0].get('ga_name')).group('company'))\n",
    "    col_item_name.append(p_company.search(col.select('a')[0].get('ga_name')).group('item_name').lstrip())       \n",
    "    \n",
    "for col in col_products:\n",
    "    col_sales_price.append(p_price.search(col.select('p')[0].get_text()).group())           \n",
    "    \n",
    "for col in col_products:\n",
    "    try:\n",
    "        p_price.search(col.select('p')[1].get_text()).group()\n",
    "    except IndexError:\n",
    "        col_origin_price.append(0)\n",
    "    else:\n",
    "        col_origin_price.append(p_price.search(col.select('p')[1].get_text()).group())\n",
    "        \n",
    "for col in col_imgthumb:\n",
    "    try:\n",
    "        col.select('span')[0].get_text()\n",
    "    except IndexError:\n",
    "        col_discounts.append(float(0))\n",
    "    else:\n",
    "        col_discounts.append(float(col.select('span')[0].get_text()) * 0.01)\n",
    "        "
   ]
  },
  {
   "cell_type": "code",
   "execution_count": 18,
   "metadata": {},
   "outputs": [],
   "source": [
    "from bs4 import BeautifulSoup\n",
    "import requests, re\n",
    "\n",
    "col_ga_id = []\n",
    "col_company = []\n",
    "col_item_name = []\n",
    "col_sales_price = []\n",
    "col_origin_price = []\n",
    "col_discounts = []\n",
    "\n",
    "p_company = re.compile(r'\\[(?P<company>.*)\\](?P<item_name>.*)')\n",
    "p_price = re.compile(r'\\d.*\\d')\n",
    "\n",
    "url='https://www.baeminchan.com/sidedish/list.php?cno=46010000&page='\n",
    "\n",
    "for num in range(1,16):    \n",
    "    response = requests.get(url+str(num))\n",
    "    soup = BeautifulSoup(response.text, 'lxml')\n",
    "    soup_products = soup.find('ul', id='products')\n",
    "    col_products = []\n",
    "    col_products = soup_products.findAll('li')\n",
    "    col_imgthumb = []\n",
    "    col_imgthumb = soup_products.find_all(\"div\", \"imgthumb\")\n",
    "    \n",
    "    for col in col_products:\n",
    "        col_ga_id.append(col.select('a')[0].get('ga_id'))\n",
    "        col_company.append(p_company.search(col.select('a')[0].get('ga_name')).group('company'))\n",
    "        col_item_name.append(p_company.search(col.select('a')[0].get('ga_name')).group('item_name').lstrip())       \n",
    "\n",
    "    for col in col_products:        \n",
    "        try:\n",
    "            p_price.search(col.select('p')[0].get_text()).group()\n",
    "        except:\n",
    "            col_sales_price.append(0)\n",
    "        else:\n",
    "            col_sales_price.append(p_price.search(col.select('p')[0].get_text()).group())           \n",
    "\n",
    "    for col in col_products:\n",
    "        try:\n",
    "            p_price.search(col.select('p')[1].get_text()).group()\n",
    "        except IndexError:\n",
    "            col_origin_price.append(0)\n",
    "        else:\n",
    "            col_origin_price.append(p_price.search(col.select('p')[1].get_text()).group())\n",
    "\n",
    "    for col in col_imgthumb:\n",
    "        try:\n",
    "            col.select('span')[0].get_text()\n",
    "        except IndexError:\n",
    "            col_discounts.append(float(0))\n",
    "        else:\n",
    "            col_discounts.append(float(col.select('span')[0].get_text()) * 0.01)"
   ]
  },
  {
   "cell_type": "code",
   "execution_count": 19,
   "metadata": {},
   "outputs": [
    {
     "name": "stdout",
     "output_type": "stream",
     "text": [
      "0.0\n",
      "0.25\n",
      "0.25\n",
      "0.1\n",
      "0.1\n",
      "0.1\n",
      "0.1\n",
      "0.1\n",
      "0.0\n",
      "0.1\n",
      "0.0\n",
      "0.0\n",
      "0.1\n",
      "0.1\n",
      "0.0\n",
      "0.1\n",
      "0.1\n",
      "0.1\n",
      "0.1\n",
      "0.1\n",
      "0.1\n",
      "0.1\n",
      "0.1\n",
      "0.1\n",
      "0.1\n",
      "0.1\n",
      "0.1\n",
      "0.1\n",
      "0.1\n",
      "0.1\n",
      "0.1\n",
      "0.09\n",
      "0.1\n",
      "0.1\n",
      "0.1\n",
      "0.0\n",
      "0.1\n",
      "0.1\n",
      "0.1\n",
      "0.1\n",
      "0.1\n",
      "0.1\n",
      "0.1\n",
      "0.1\n",
      "0.1\n",
      "0.05\n",
      "0.05\n",
      "0.05\n",
      "0.05\n",
      "0.05\n",
      "0.05\n",
      "0.05\n",
      "0.05\n",
      "0.05\n",
      "0.0\n",
      "0.0\n",
      "0.0\n",
      "0.0\n",
      "0.0\n",
      "0.0\n",
      "0.0\n",
      "0.0\n",
      "0.0\n",
      "0.0\n",
      "0.0\n",
      "0.0\n",
      "0.0\n",
      "0.0\n",
      "0.0\n",
      "0.0\n",
      "0.0\n",
      "0.0\n",
      "0.0\n",
      "0.0\n",
      "0.0\n",
      "0.0\n",
      "0.0\n",
      "0.0\n",
      "0.0\n",
      "0.0\n",
      "0.0\n",
      "0.0\n",
      "0.0\n",
      "0.0\n",
      "0.0\n",
      "0.0\n",
      "0.0\n",
      "0.0\n",
      "0.0\n",
      "0.0\n",
      "0.0\n",
      "0.0\n",
      "0.0\n",
      "0.0\n",
      "0.0\n",
      "0.0\n",
      "0.0\n",
      "0.0\n",
      "0.0\n",
      "0.0\n",
      "0.0\n",
      "0.0\n",
      "0.0\n",
      "0.0\n",
      "0.0\n",
      "0.0\n",
      "0.0\n",
      "0.0\n",
      "0.0\n",
      "0.0\n",
      "0.0\n",
      "0.0\n",
      "0.0\n",
      "0.0\n",
      "0.0\n",
      "0.0\n",
      "0.0\n",
      "0.0\n",
      "0.0\n",
      "0.0\n",
      "0.0\n",
      "0.0\n",
      "0.0\n",
      "0.0\n",
      "0.0\n",
      "0.0\n",
      "0.0\n",
      "0.0\n",
      "0.0\n",
      "0.0\n",
      "0.0\n",
      "0.0\n",
      "0.0\n",
      "0.0\n",
      "0.0\n",
      "0.0\n",
      "0.0\n",
      "0.0\n",
      "0.1\n",
      "0.0\n",
      "0.0\n",
      "0.0\n",
      "0.0\n",
      "0.0\n",
      "0.0\n",
      "0.0\n",
      "0.0\n",
      "0.0\n",
      "0.05\n",
      "0.0\n",
      "0.0\n",
      "0.0\n",
      "0.0\n",
      "0.0\n",
      "0.0\n",
      "0.0\n",
      "0.0\n",
      "0.0\n",
      "0.0\n",
      "0.0\n",
      "0.0\n",
      "0.0\n",
      "0.0\n",
      "0.0\n",
      "0.0\n",
      "0.0\n",
      "0.0\n",
      "0.0\n",
      "0.0\n",
      "0.0\n",
      "0.0\n",
      "0.0\n",
      "0.1\n",
      "0.1\n",
      "0.0\n",
      "0.0\n",
      "0.0\n",
      "0.0\n",
      "0.0\n",
      "0.0\n",
      "0.0\n",
      "0.0\n",
      "0.0\n",
      "0.0\n",
      "0.0\n",
      "0.0\n",
      "0.0\n",
      "0.0\n",
      "0.0\n",
      "0.0\n",
      "0.0\n",
      "0.0\n",
      "0.0\n",
      "0.0\n",
      "0.0\n",
      "0.0\n",
      "0.0\n",
      "0.0\n",
      "0.0\n",
      "0.0\n",
      "0.0\n",
      "0.0\n",
      "0.0\n",
      "0.0\n",
      "0.0\n",
      "0.0\n",
      "0.0\n",
      "0.0\n",
      "0.0\n",
      "0.0\n",
      "0.0\n",
      "0.0\n",
      "0.0\n",
      "0.0\n",
      "0.0\n",
      "0.0\n",
      "0.0\n",
      "0.0\n",
      "0.0\n",
      "0.0\n",
      "0.0\n",
      "0.0\n",
      "0.0\n",
      "0.0\n",
      "0.0\n",
      "0.0\n",
      "0.0\n",
      "0.0\n",
      "0.0\n",
      "0.0\n",
      "0.0\n",
      "0.0\n",
      "0.0\n",
      "0.0\n",
      "0.0\n",
      "0.0\n",
      "0.0\n",
      "0.0\n",
      "0.0\n",
      "0.0\n",
      "0.0\n",
      "0.0\n",
      "0.2\n",
      "0.0\n",
      "0.0\n",
      "0.0\n",
      "0.0\n",
      "0.0\n",
      "0.0\n",
      "0.0\n",
      "0.05\n",
      "0.0\n",
      "0.0\n",
      "0.0\n",
      "0.0\n",
      "0.0\n",
      "0.0\n",
      "0.0\n",
      "0.0\n",
      "0.0\n",
      "0.0\n",
      "0.0\n",
      "0.0\n",
      "0.0\n",
      "0.0\n",
      "0.0\n",
      "0.0\n",
      "0.0\n",
      "0.0\n",
      "0.0\n",
      "0.0\n",
      "0.0\n",
      "0.0\n",
      "0.0\n",
      "0.0\n",
      "0.1\n",
      "0.2\n",
      "0.0\n",
      "0.0\n",
      "0.0\n",
      "0.0\n",
      "0.0\n",
      "0.0\n",
      "0.0\n",
      "0.0\n",
      "0.0\n",
      "0.0\n",
      "0.0\n",
      "0.0\n",
      "0.0\n",
      "0.0\n",
      "0.0\n",
      "0.0\n",
      "0.0\n",
      "0.1\n",
      "0.0\n",
      "0.0\n",
      "0.0\n",
      "0.0\n",
      "0.0\n",
      "0.0\n",
      "0.0\n",
      "0.0\n",
      "0.0\n",
      "0.0\n",
      "0.0\n",
      "0.0\n",
      "0.0\n",
      "0.0\n",
      "0.0\n",
      "0.0\n",
      "0.25\n",
      "0.0\n",
      "0.0\n",
      "0.0\n",
      "0.0\n",
      "0.0\n",
      "0.0\n",
      "0.0\n",
      "0.1\n",
      "0.1\n",
      "0.2\n",
      "0.2\n",
      "0.2\n",
      "0.1\n",
      "0.1\n",
      "0.1\n",
      "0.05\n",
      "0.0\n",
      "0.0\n",
      "0.0\n",
      "0.0\n",
      "0.0\n",
      "0.0\n",
      "0.0\n",
      "0.0\n",
      "0.0\n",
      "0.0\n",
      "0.25\n"
     ]
    }
   ],
   "source": [
    "for col in col_discounts:\n",
    "    print(col)"
   ]
  },
  {
   "cell_type": "code",
   "execution_count": 27,
   "metadata": {},
   "outputs": [
    {
     "data": {
      "text/plain": [
       "339"
      ]
     },
     "execution_count": 27,
     "metadata": {},
     "output_type": "execute_result"
    }
   ],
   "source": [
    "# col_ga_id, col_company, col_item_name, col_sales_price, col_origin_price, col_discounts\n",
    "len(col_discounts)"
   ]
  }
 ],
 "metadata": {
  "kernelspec": {
   "display_name": "Python 3",
   "language": "python",
   "name": "python3"
  },
  "language_info": {
   "codemirror_mode": {
    "name": "ipython",
    "version": 3
   },
   "file_extension": ".py",
   "mimetype": "text/x-python",
   "name": "python",
   "nbconvert_exporter": "python",
   "pygments_lexer": "ipython3",
   "version": "3.6.6"
  }
 },
 "nbformat": 4,
 "nbformat_minor": 2
}
