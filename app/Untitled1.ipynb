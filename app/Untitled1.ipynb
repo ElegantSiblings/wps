{
 "cells": [
  {
   "cell_type": "code",
   "execution_count": 5,
   "metadata": {},
   "outputs": [
    {
     "data": {
      "text/plain": [
       "1"
      ]
     },
     "execution_count": 5,
     "metadata": {},
     "output_type": "execute_result"
    }
   ],
   "source": [
    "Item.objects.filter(pk=401).update(list_thumbnail='items/thumnail_401.jpg')"
   ]
  },
  {
   "cell_type": "code",
   "execution_count": 33,
   "metadata": {},
   "outputs": [
    {
     "name": "stdout",
     "output_type": "stream",
     "text": [
      "1085\n",
      "1086\n",
      "1087\n",
      "1088\n",
      "1089\n",
      "1090\n",
      "1091\n"
     ]
    }
   ],
   "source": [
    "suffix = 1085\n",
    "for pk in range(1085, 1092):\n",
    "    Item.objects.filter(pk=pk).update(list_thumbnail='items/thumnail_'+str(suffix)+'.jpg')\n",
    "    suffix += 1\n",
    "    print(pk)"
   ]
  },
  {
   "cell_type": "code",
   "execution_count": 20,
   "metadata": {},
   "outputs": [
    {
     "data": {
      "text/plain": [
       "1"
      ]
     },
     "execution_count": 20,
     "metadata": {},
     "output_type": "execute_result"
    }
   ],
   "source": [
    "Item.objects.filter(pk=924).update(list_thumbnail='')"
   ]
  },
  {
   "cell_type": "code",
   "execution_count": 19,
   "metadata": {},
   "outputs": [
    {
     "data": {
      "text/plain": [
       "1"
      ]
     },
     "execution_count": 19,
     "metadata": {},
     "output_type": "execute_result"
    }
   ],
   "source": [
    "Item.objects.filter(pk=839).update(list_thumbnail='items/thumnail_'+str(841)+'.jpg')"
   ]
  },
  {
   "cell_type": "code",
   "execution_count": 23,
   "metadata": {},
   "outputs": [
    {
     "data": {
      "text/plain": [
       "1"
      ]
     },
     "execution_count": 23,
     "metadata": {},
     "output_type": "execute_result"
    }
   ],
   "source": [
    "Item.objects.filter(pk=924).update(list_thumbnail='')"
   ]
  },
  {
   "cell_type": "code",
   "execution_count": 24,
   "metadata": {},
   "outputs": [
    {
     "data": {
      "text/plain": [
       "1"
      ]
     },
     "execution_count": 24,
     "metadata": {},
     "output_type": "execute_result"
    }
   ],
   "source": [
    "Item.objects.filter(pk=925).update(list_thumbnail='')"
   ]
  },
  {
   "cell_type": "code",
   "execution_count": 25,
   "metadata": {},
   "outputs": [
    {
     "data": {
      "text/plain": [
       "1"
      ]
     },
     "execution_count": 25,
     "metadata": {},
     "output_type": "execute_result"
    }
   ],
   "source": [
    "Item.objects.filter(pk=926).update(list_thumbnail='')"
   ]
  },
  {
   "cell_type": "code",
   "execution_count": 26,
   "metadata": {},
   "outputs": [
    {
     "data": {
      "text/plain": [
       "1"
      ]
     },
     "execution_count": 26,
     "metadata": {},
     "output_type": "execute_result"
    }
   ],
   "source": [
    "Item.objects.filter(pk=927).update(list_thumbnail='')"
   ]
  },
  {
   "cell_type": "code",
   "execution_count": 29,
   "metadata": {},
   "outputs": [
    {
     "data": {
      "text/plain": [
       "1"
      ]
     },
     "execution_count": 29,
     "metadata": {},
     "output_type": "execute_result"
    }
   ],
   "source": [
    "Item.objects.filter(pk=976).update(list_thumbnail='')"
   ]
  },
  {
   "cell_type": "code",
   "execution_count": 8,
   "metadata": {},
   "outputs": [],
   "source": [
    "col_detail_url = [\n",
    "    'https://www.baeminchan.com/mealplan/detail.php?hash=G0F42&cno=46110000',\n",
    "    'https://www.baeminchan.com/mealplan/detail.php?hash=F1256&cno=46110000',\n",
    "    'https://www.baeminchan.com/mealplan/detail.php?hash=F23AA&cno=46110000',\n",
    "    'https://www.baeminchan.com/mealplan/detail.php?hash=F62EE&cno=46110000',\n",
    "    'https://www.baeminchan.com/mealplan/detail.php?hash=FF7CB&cno=46110000',\n",
    "    'https://www.baeminchan.com/mealplan/detail.php?hash=G27B7&cno=46110000',\n",
    "    'https://www.baeminchan.com/mealplan/detail.php?hash=FDAEB&cno=46110000',\n",
    "    'https://www.baeminchan.com/mealplan/detail.php?hash=GAF8D&cno=46110000',\n",
    "    'https://www.baeminchan.com/mealplan/detail.php?hash=GA3FA&cno=46110000',\n",
    "    'https://www.baeminchan.com/mealplan/detail.php?hash=GCA07&cno=46110000',\n",
    "    'https://www.baeminchan.com/mealplan/detail.php?hash=F6B07&cno=46110000',    \n",
    "]"
   ]
  },
  {
   "cell_type": "code",
   "execution_count": null,
   "metadata": {},
   "outputs": [],
   "source": []
  },
  {
   "cell_type": "code",
   "execution_count": 9,
   "metadata": {},
   "outputs": [],
   "source": [
    "from bs4 import BeautifulSoup\n",
    "import requests, re\n",
    "\n",
    "url = 'https://www.baeminchan.com/mealplan/list.php'\n",
    "response = requests.get(url)\n",
    "soup = BeautifulSoup(response.text, 'lxml')\n",
    "soup_products = soup.find('ul', id='products')\n",
    "col_products = []\n",
    "col_products = soup_products.findAll('li')\n",
    "col_ga_id = []\n",
    "for col in col_products:\n",
    "    col_ga_id.append(col.select('a')[0].get('ga_id'))\n",
    "  "
   ]
  },
  {
   "cell_type": "code",
   "execution_count": 39,
   "metadata": {},
   "outputs": [
    {
     "name": "stdout",
     "output_type": "stream",
     "text": [
      "10815\n",
      "5825\n",
      "5826\n",
      "1890\n",
      "5815\n",
      "9915\n",
      "5881\n",
      "12481\n",
      "12841\n",
      "6934\n",
      "5648\n"
     ]
    }
   ],
   "source": [
    "for col in col_ga_id:\n",
    "    print(col)"
   ]
  },
  {
   "cell_type": "code",
   "execution_count": 10,
   "metadata": {
    "scrolled": true
   },
   "outputs": [
    {
     "name": "stdout",
     "output_type": "stream",
     "text": [
      "https://www.baeminchan.com/mealplan/detail.php?hash=G0F42&cno=46110000\n",
      "국내 최고 요리연구가 방영아의 제안\n",
      "10815\n",
      "https://www.baeminchan.com/mealplan/detail.php?hash=F1256&cno=46110000\n",
      "식단 정기배송으로 반찬고민 끝\n",
      "5825\n",
      "https://www.baeminchan.com/mealplan/detail.php?hash=F23AA&cno=46110000\n",
      "5만명 이상의 고객님이 인정한 진짜 집밥!\n",
      "5826\n",
      "https://www.baeminchan.com/mealplan/detail.php?hash=F62EE&cno=46110000\n",
      "반찬 4가지,국·찌개류 1가지 정기배송\n",
      "1890\n",
      "https://www.baeminchan.com/mealplan/detail.php?hash=FF7CB&cno=46110000\n",
      "5만 고객님이 인정한 더푸드 반찬배송\n",
      "5815\n",
      "https://www.baeminchan.com/mealplan/detail.php?hash=G27B7&cno=46110000\n",
      "분당의 인기 반찬가게 리쿡54의 수제반찬\n",
      "9915\n",
      "https://www.baeminchan.com/mealplan/detail.php?hash=FDAEB&cno=46110000\n",
      "식단 정기배송으로 반찬고민 끝\n",
      "5881\n",
      "https://www.baeminchan.com/mealplan/detail.php?hash=GAF8D&cno=46110000\n",
      "국내 최고 요리연구가 방영아의 제안\n",
      "12481\n",
      "https://www.baeminchan.com/mealplan/detail.php?hash=GA3FA&cno=46110000\n",
      "옥수동의 델리형 반찬가게\n",
      "12841\n",
      "https://www.baeminchan.com/mealplan/detail.php?hash=GCA07&cno=46110000\n",
      "오늘은 뭐먹지 고민은 넣어두세요\n",
      "6934\n",
      "https://www.baeminchan.com/mealplan/detail.php?hash=F6B07&cno=46110000\n",
      "분당의 인기 반찬가게 리쿡54의 수제반찬\n",
      "5648\n"
     ]
    }
   ],
   "source": [
    "for url in col_detail_url:\n",
    "    print(url)\n",
    "    ga_id = col_ga_id[col_detail_url.index(url)]\n",
    "    response = requests.get(url)\n",
    "    soup = BeautifulSoup(response.text, 'lxml')\n",
    "    soup_detail = soup.find('div', id='app')\n",
    "    \n",
    "    added_words = ''\n",
    "    try:\n",
    "        added_words = soup_detail.find_all(\"p\", \"desc_bt_txt\")[0].get_text()\n",
    "    except:\n",
    "        pass\n",
    "            \n",
    "    point = 0\n",
    "    try:\n",
    "        int(soup_detail.find_all(\"dl\", \"desc_info\")[0].select('dd')[0].get_text().replace('원',''))\n",
    "    except:\n",
    "        pass\n",
    "    else:\n",
    "        point = int(soup_detail.find_all(\"dl\", \"desc_info\")[0].select('dd')[0].get_text().replace('원',''))\n",
    "            \n",
    "    delivery_type = ''\n",
    "    try:        \n",
    "        delivery_type = soup_detail.find_all(\"dl\", \"desc_info\")[0].select('dd')[1].get_text().replace('\\r','').replace('\\n','')\n",
    "    except:\n",
    "        pass                    \n",
    "    \n",
    "    receive_day = ''\n",
    "    try:\n",
    "        receive_day = soup_detail.find_all(\"dl\", \"desc_info\")[0].select('dd')[2].get_text().replace('\\r','').replace('\\n','')\n",
    "    except:\n",
    "        pass\n",
    "    \n",
    "    regular_delivery = ''\n",
    "    try:\n",
    "        regular_delivery = soup_detail.find_all(\"dl\", \"desc_info\")[0].select('dd')[3].get_text()\n",
    "    except:\n",
    "        pass\n",
    "    \n",
    "    if regular_delivery == '가능':\n",
    "        regular_delivery = True\n",
    "    else:\n",
    "        regular_delivery = False\n",
    "        \n",
    "    soup_detail_description = soup.find('div', id='detail_official_information')\n",
    "    col_is_equal = [\n",
    "        '식품의 유형',\n",
    "        '생산자 및 소재지(수입품의 경우 수입자를 함께 표기)',\n",
    "        '제조연월일, 유통기한 또는 품질유지기한',\n",
    "        '포장단위별 용량(중량), 수량',\n",
    "        '원재료명 및 함량',\n",
    "        '영양성분',\n",
    "        '유전자재조합식품 여부',\n",
    "        '영유아식 또는 체중조절식품 등에 해당하는 경우',\n",
    "        '수입식품 문구',\n",
    "        '소비자상담 관련 전화번호',    \n",
    "        '알레르기 주의사항',\n",
    "        '알레르기 유발물질',\n",
    "        '품목신고번호',\n",
    "    ]\n",
    "    col_th = []\n",
    "    col_td = []\n",
    "    \n",
    "    col_th = soup_detail_description.find_all('tbody')[0].select('th')\n",
    "    col_td = soup_detail_description.find_all('tbody')[0].select('td')\n",
    "    \n",
    "    col_description_data = []\n",
    "\n",
    "    for col in col_is_equal:\n",
    "        descripiton = ''\n",
    "        for col_th_num in col_th:\n",
    "            if col == col_th_num.get_text():\n",
    "                descripiton = col_td[col_th.index(col_th_num)].get_text().replace('\\r','').replace('\\n','')\n",
    "                break\n",
    "\n",
    "        col_description_data.append(descripiton)\n",
    "    print(added_words)\n",
    "    print(ga_id)\n",
    "    Description.objects.create(\n",
    "        item=Item.objects.get(ga_id=ga_id), \n",
    "        added_words=added_words,\n",
    "        point=point,\n",
    "        delivery_type=delivery_type,\n",
    "        receive_day=receive_day,\n",
    "        regular_delivery=regular_delivery,\n",
    "        item_type=col_description_data[0],\n",
    "        factory_address=col_description_data[1],\n",
    "        dom=col_description_data[2],\n",
    "        capacity=col_description_data[3],\n",
    "        ingredient=col_description_data[4],\n",
    "        caution=col_description_data[10],                \n",
    "        allergy_material=col_description_data[11],        \n",
    "    )\n",
    "    \n",
    "#     print(point)\n",
    "#     print(delivery_type)\n",
    "#     print(receive_day)\n",
    "#     print(regular_delivery)\n",
    "#     print(col_description_data[0])\n",
    "#     print(col_description_data[1])\n",
    "#     print(col_description_data[2])\n",
    "#     print(col_description_data[3])\n",
    "#     print(col_description_data[4])\n",
    "#     print(col_description_data[10])\n",
    "#     print(col_description_data[11])\n",
    "\n",
    "#     try:\n",
    "#         Description.objects.create(\n",
    "#             item=Item.objects.get(ga_id=ga_id), \n",
    "#             added_words=added_words,\n",
    "#             point=point,\n",
    "#             delivery_type=delivery_type,\n",
    "#             receive_day=receive_day,\n",
    "#             regular_delivery=regular_delivery,\n",
    "#             item_type=col_description_data[0],\n",
    "#             factory_address=col_description_data[1],\n",
    "#             dom=col_description_data[2],\n",
    "#             capacity=col_description_data[3],\n",
    "#             ingredient=col_description_data[4],\n",
    "#             caution=col_description_data[10],                \n",
    "#             allergy_material=col_description_data[11],        \n",
    "#         )\n",
    "#         print('success')\n",
    "#     except:\n",
    "#         print('fail')\n",
    "#         pass   "
   ]
  },
  {
   "cell_type": "code",
   "execution_count": 11,
   "metadata": {},
   "outputs": [],
   "source": [
    "item = Item.objects.get(ga_id='10815')"
   ]
  },
  {
   "cell_type": "code",
   "execution_count": 12,
   "metadata": {},
   "outputs": [
    {
     "data": {
      "text/plain": [
       "1081"
      ]
     },
     "execution_count": 12,
     "metadata": {},
     "output_type": "execute_result"
    }
   ],
   "source": [
    "item.id"
   ]
  },
  {
   "cell_type": "code",
   "execution_count": 25,
   "metadata": {},
   "outputs": [],
   "source": [
    "item = Description.objects.get(item=Item.objects.get(pk=1070))"
   ]
  },
  {
   "cell_type": "code",
   "execution_count": 26,
   "metadata": {},
   "outputs": [
    {
     "data": {
      "text/plain": [
       "<Description: [Young313]아이반찬(반찬4,국1가지)>"
      ]
     },
     "execution_count": 26,
     "metadata": {},
     "output_type": "execute_result"
    }
   ],
   "source": [
    "item"
   ]
  },
  {
   "cell_type": "code",
   "execution_count": 7,
   "metadata": {},
   "outputs": [
    {
     "data": {
      "text/plain": [
       "(1, {'items.Description': 1})"
      ]
     },
     "execution_count": 7,
     "metadata": {},
     "output_type": "execute_result"
    }
   ],
   "source": [
    "Description.objects.filter(item=Item.objects.get(pk=1085)).delete()"
   ]
  },
  {
   "cell_type": "code",
   "execution_count": 12,
   "metadata": {},
   "outputs": [
    {
     "name": "stdout",
     "output_type": "stream",
     "text": [
      "아삭- 소리와 함께 되찾은 입맛\n",
      "18075\n"
     ]
    },
    {
     "data": {
      "text/plain": [
       "<Description: [집밥의완성]오이사과부추버무리 (1~2인분) 280g>"
      ]
     },
     "execution_count": 12,
     "metadata": {},
     "output_type": "execute_result"
    }
   ],
   "source": [
    "url = 'https://www.baeminchan.com/sidedish/detail.php?cno=46010100&hash=I95A7'\n",
    "    \n",
    "ga_id = 18075\n",
    "response = requests.get(url)\n",
    "soup = BeautifulSoup(response.text, 'lxml')\n",
    "soup_detail = soup.find('div', id='app')\n",
    "\n",
    "added_words = ''\n",
    "try:\n",
    "    added_words = soup_detail.find_all(\"p\", \"desc_bt_txt\")[0].get_text()\n",
    "except:\n",
    "    pass\n",
    "\n",
    "point = 0\n",
    "try:\n",
    "    int(soup_detail.find_all(\"dl\", \"desc_info\")[0].select('dd')[0].get_text().replace('원',''))\n",
    "except:\n",
    "    pass\n",
    "else:\n",
    "    point = int(soup_detail.find_all(\"dl\", \"desc_info\")[0].select('dd')[0].get_text().replace('원',''))\n",
    "\n",
    "delivery_type = ''\n",
    "try:        \n",
    "    delivery_type = soup_detail.find_all(\"dl\", \"desc_info\")[0].select('dd')[1].get_text().replace('\\r','').replace('\\n','')\n",
    "except:\n",
    "    pass                    \n",
    "\n",
    "receive_day = ''\n",
    "try:\n",
    "    receive_day = soup_detail.find_all(\"dl\", \"desc_info\")[0].select('dd')[2].get_text().replace('\\r','').replace('\\n','')\n",
    "except:\n",
    "    pass\n",
    "\n",
    "regular_delivery = ''\n",
    "try:\n",
    "    regular_delivery = soup_detail.find_all(\"dl\", \"desc_info\")[0].select('dd')[3].get_text()\n",
    "except:\n",
    "    pass\n",
    "\n",
    "if regular_delivery == '가능':\n",
    "    regular_delivery = True\n",
    "else:\n",
    "    regular_delivery = False\n",
    "\n",
    "soup_detail_description = soup.find('div', id='detail_official_information')\n",
    "col_is_equal = [\n",
    "    '식품의 유형',\n",
    "    '생산자 및 소재지(수입품의 경우 수입자를 함께 표기)',\n",
    "    '제조연월일, 유통기한 또는 품질유지기한',\n",
    "    '포장단위별 용량(중량), 수량',\n",
    "    '원재료명 및 함량',\n",
    "    '영양성분',\n",
    "    '유전자재조합식품 여부',\n",
    "    '영유아식 또는 체중조절식품 등에 해당하는 경우',\n",
    "    '수입식품 문구',\n",
    "    '소비자상담 관련 전화번호',    \n",
    "    '알레르기 주의사항',\n",
    "    '알레르기 유발물질',\n",
    "    '품목신고번호',\n",
    "]\n",
    "col_th = []\n",
    "col_td = []\n",
    "\n",
    "col_th = soup_detail_description.find_all('tbody')[0].select('th')\n",
    "col_td = soup_detail_description.find_all('tbody')[0].select('td')\n",
    "\n",
    "col_description_data = []\n",
    "\n",
    "for col in col_is_equal:\n",
    "    descripiton = ''\n",
    "    for col_th_num in col_th:\n",
    "        if col == col_th_num.get_text():\n",
    "            descripiton = col_td[col_th.index(col_th_num)].get_text().replace('\\r','').replace('\\n','')\n",
    "            break\n",
    "\n",
    "    col_description_data.append(descripiton)\n",
    "print(added_words)\n",
    "print(ga_id)\n",
    "Description.objects.create(\n",
    "    item=Item.objects.get(ga_id=ga_id), \n",
    "    added_words=added_words,\n",
    "    point=point,\n",
    "    delivery_type=delivery_type,\n",
    "    receive_day=receive_day,\n",
    "    regular_delivery=regular_delivery,\n",
    "    item_type=col_description_data[0],\n",
    "    factory_address=col_description_data[1],\n",
    "    dom=col_description_data[2],\n",
    "    capacity=col_description_data[3],\n",
    "    ingredient=col_description_data[4],\n",
    "    caution=col_description_data[10],                \n",
    "    allergy_material=col_description_data[11],        \n",
    ")    "
   ]
  },
  {
   "cell_type": "code",
   "execution_count": null,
   "metadata": {},
   "outputs": [],
   "source": []
  }
 ],
 "metadata": {
  "kernelspec": {
   "display_name": "Django Shell-Plus",
   "language": "python",
   "name": "django_extensions"
  },
  "language_info": {
   "codemirror_mode": {
    "name": "ipython",
    "version": 3
   },
   "file_extension": ".py",
   "mimetype": "text/x-python",
   "name": "python",
   "nbconvert_exporter": "python",
   "pygments_lexer": "ipython3",
   "version": "3.6.6"
  }
 },
 "nbformat": 4,
 "nbformat_minor": 2
}
